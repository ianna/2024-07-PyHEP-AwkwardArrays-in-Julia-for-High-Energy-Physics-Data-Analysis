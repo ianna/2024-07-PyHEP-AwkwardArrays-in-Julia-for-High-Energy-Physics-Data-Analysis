{
 "cells": [
  {
   "cell_type": "code",
   "execution_count": 1,
   "id": "ccc4f8c9-d93a-4985-a45e-bec19f0b5487",
   "metadata": {
    "tags": []
   },
   "outputs": [
    {
     "name": "stdout",
     "output_type": "stream",
     "text": [
      "Detected IPython. Loading juliacall extension. See https://juliapy.github.io/PythonCall.jl/stable/compat/#IPython\n"
     ]
    }
   ],
   "source": [
    "import awkward as ak\n",
    "from juliacall import Main as jl\n",
    "\n",
    "jl.seval(\"using AwkwardArray\")"
   ]
  },
  {
   "cell_type": "code",
   "execution_count": 2,
   "id": "df279c51-0b9b-4f58-ab63-66f118f8e134",
   "metadata": {
    "tags": []
   },
   "outputs": [],
   "source": [
    "jl.seval(\"using UnROOT\")"
   ]
  },
  {
   "cell_type": "code",
   "execution_count": 5,
   "id": "2b4d8bd7-1420-4028-bd5f-3e7ce1441d19",
   "metadata": {
    "tags": []
   },
   "outputs": [
    {
     "name": "stdout",
     "output_type": "stream",
     "text": [
      "1.25 ms ± 3.23 µs per loop (mean ± std. dev. of 7 runs, 1,000 loops each)\n"
     ]
    }
   ],
   "source": [
    "%timeit file = jl.Main.ROOTFile(\"SMHiggsToZZTo4L.root\")"
   ]
  },
  {
   "cell_type": "code",
   "execution_count": 6,
   "id": "f9294a4f-3e4c-46ee-aa1f-26ecc562b09b",
   "metadata": {
    "tags": []
   },
   "outputs": [
    {
     "data": {
      "text/plain": [
       "ROOTFile with 1 entry and 18 streamers.\n",
       "SMHiggsToZZTo4L.root\n",
       "└─ Events (TTree)\n",
       "   ├─ \"run\"\n",
       "   ├─ \"luminosityBlock\"\n",
       "   ├─ \"event\"\n",
       "   ├─ \"⋮\"\n",
       "   ├─ \"Electron_dzErr\"\n",
       "   ├─ \"MET_pt\"\n",
       "   └─ \"MET_phi\"\n"
      ]
     },
     "execution_count": 6,
     "metadata": {},
     "output_type": "execute_result"
    }
   ],
   "source": [
    "file"
   ]
  },
  {
   "cell_type": "code",
   "execution_count": 7,
   "id": "57190d88-7117-4cbb-9173-e5703819c297",
   "metadata": {
    "tags": []
   },
   "outputs": [
    {
     "data": {
      "text/plain": [
       "juliacall.AnyValue"
      ]
     },
     "execution_count": 7,
     "metadata": {},
     "output_type": "execute_result"
    }
   ],
   "source": [
    "type(file)"
   ]
  },
  {
   "cell_type": "code",
   "execution_count": 8,
   "id": "821e5d13-f778-4e6c-96ef-d5401eaf9c71",
   "metadata": {
    "tags": []
   },
   "outputs": [
    {
     "name": "stdout",
     "output_type": "stream",
     "text": [
      "304 µs ± 79.3 µs per loop (mean ± std. dev. of 7 runs, 1 loop each)\n"
     ]
    }
   ],
   "source": [
    "%timeit tree = jl.Main.LazyTree(file, \"Events\")"
   ]
  },
  {
   "cell_type": "code",
   "execution_count": 10,
   "id": "1acc4698-11c4-4ef2-8769-374eeb87a8f5",
   "metadata": {
    "tags": []
   },
   "outputs": [],
   "source": [
    "tree = jl.Main.LazyTree(file, \"Events\")"
   ]
  },
  {
   "cell_type": "code",
   "execution_count": 11,
   "id": "94426e17-1e07-4ddc-b836-f15903c14b4f",
   "metadata": {
    "tags": []
   },
   "outputs": [
    {
     "data": {
      "text/plain": [
       " Row │ Electron_mass    nElectron  luminosityBlock  nMuon   Electron_phi     M ⋯\n",
       "     │ SubArray{Float3  UInt32     UInt32           UInt32  SubArray{Float3  F ⋯\n",
       "─────┼──────────────────────────────────────────────────────────────────────────\n",
       " 1   │ []               0          156              3       []               - ⋯\n",
       " 2   │ [0.00544,        4          156              0       [0.134, -1       2 ⋯\n",
       " 3   │ [-0.00609,       2          156              0       [2.18, 1.6       - ⋯\n",
       " 4   │ [-0.00123]       1          156              7       [-0.643]         - ⋯\n",
       " 5   │ [0.0117, 0       4          156              0       [1.01, -1.       1 ⋯\n",
       " 6   │ [-0.00183]       1          156              2       [-0.497]         - ⋯\n",
       " 7   │ [-0.00183]       1          156              1       [-1.47]          - ⋯\n",
       " 8   │ [-0.00216]       1          156              0       [-0.633]         - ⋯\n",
       " 9   │ [-0.0128,        4          156              0       [2.79, -2.       - ⋯\n",
       " 10  │ []               0          156              0       []               - ⋯\n",
       " 11  │ [-0.00119,       2          156              1       [2.28, -2.       0 ⋯\n",
       " 12  │ [0.00608,        3          156              2       [-1.31, -1       2 ⋯\n",
       " 13  │ [-0.00765,       4          156              0       [2.52, -3.       - ⋯\n",
       " 14  │ []               0          156              2       []               - ⋯\n",
       " 15  │ []               0          156              0       []               - ⋯\n",
       "  ⋮  │        ⋮             ⋮             ⋮           ⋮            ⋮           ⋱\n",
       "                                              27 columns and 299958 rows omitted\n"
      ]
     },
     "execution_count": 11,
     "metadata": {},
     "output_type": "execute_result"
    }
   ],
   "source": [
    "tree"
   ]
  },
  {
   "cell_type": "code",
   "execution_count": null,
   "id": "c979f72f-9b5c-470f-929e-d9359940025f",
   "metadata": {},
   "outputs": [],
   "source": []
  }
 ],
 "metadata": {
  "kernelspec": {
   "display_name": "Python 3 (ipykernel)",
   "language": "python",
   "name": "python3"
  },
  "language_info": {
   "codemirror_mode": {
    "name": "ipython",
    "version": 3
   },
   "file_extension": ".py",
   "mimetype": "text/x-python",
   "name": "python",
   "nbconvert_exporter": "python",
   "pygments_lexer": "ipython3",
   "version": "3.10.12"
  }
 },
 "nbformat": 4,
 "nbformat_minor": 5
}
