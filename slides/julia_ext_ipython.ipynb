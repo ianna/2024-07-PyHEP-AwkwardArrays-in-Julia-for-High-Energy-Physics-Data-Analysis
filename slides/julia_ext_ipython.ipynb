{
 "cells": [
  {
   "cell_type": "markdown",
   "id": "9f9cdb2d-01f6-42ad-aa59-3a7a8de90571",
   "metadata": {
    "tags": []
   },
   "source": [
    "# [Compatibility Tools: IPython](https://juliapy.github.io/PythonCall.jl/stable/compat/#IPython)"
   ]
  },
  {
   "cell_type": "markdown",
   "id": "32f7a4fe-4d0e-401a-acf5-91de5ac7ed7a",
   "metadata": {},
   "source": [
    " * The line magic `%julia` code executes the given Julia code in-line.\n",
    " * The cell magic `%%julia` executes a cell of Julia code.\n",
    " * Julia's `stdout` and `stderr` are redirected to IPython.\n",
    " * Calling `display(x)` from Julia will display `x` in IPython."
   ]
  },
  {
   "cell_type": "code",
   "execution_count": 1,
   "id": "4e61fd27-2572-4df4-8745-e7538017c149",
   "metadata": {
    "tags": []
   },
   "outputs": [
    {
     "name": "stdout",
     "output_type": "stream",
     "text": [
      "Detected IPython. Loading juliacall extension. See https://juliapy.github.io/PythonCall.jl/stable/compat/#IPython\n"
     ]
    },
    {
     "name": "stderr",
     "output_type": "stream",
     "text": [
      "WARNING: replacing module _ipython.\n"
     ]
    }
   ],
   "source": [
    "%load_ext juliacall"
   ]
  },
  {
   "cell_type": "code",
   "execution_count": 2,
   "id": "ae57b5ab-9839-42ef-bb94-99a5ce704a2f",
   "metadata": {
    "tags": []
   },
   "outputs": [],
   "source": [
    "x = 2"
   ]
  },
  {
   "cell_type": "code",
   "execution_count": 3,
   "id": "f1ca4173-d7f2-437c-8ed2-6cd7c622d331",
   "metadata": {
    "tags": []
   },
   "outputs": [],
   "source": [
    "y = 8"
   ]
  },
  {
   "cell_type": "markdown",
   "id": "8ecba4ac-0a3e-4b73-9d44-2fb205e77cd1",
   "metadata": {},
   "source": [
    "The `%%julia` cell magic can synchronise variables between Julia and Python by listing them on the first line:"
   ]
  },
  {
   "cell_type": "code",
   "execution_count": 4,
   "id": "499d5b80-a2b4-4147-9670-5cdd5a957a16",
   "metadata": {
    "tags": []
   },
   "outputs": [],
   "source": [
    "%%julia x y z\n",
    "    z = \"$x^$y = $(x^y)\";"
   ]
  },
  {
   "cell_type": "code",
   "execution_count": 5,
   "id": "b042b197-2cd7-41ae-a132-847bf605c405",
   "metadata": {
    "tags": []
   },
   "outputs": [
    {
     "data": {
      "text/plain": [
       "\"2^8 = 256\""
      ]
     },
     "execution_count": 5,
     "metadata": {},
     "output_type": "execute_result"
    }
   ],
   "source": [
    "z"
   ]
  },
  {
   "cell_type": "code",
   "execution_count": null,
   "id": "6e914f2f-54f7-4f20-afb0-a60e2e1f3034",
   "metadata": {},
   "outputs": [],
   "source": []
  }
 ],
 "metadata": {
  "kernelspec": {
   "display_name": "Python 3 (ipykernel)",
   "language": "python",
   "name": "python3"
  },
  "language_info": {
   "codemirror_mode": {
    "name": "ipython",
    "version": 3
   },
   "file_extension": ".py",
   "mimetype": "text/x-python",
   "name": "python",
   "nbconvert_exporter": "python",
   "pygments_lexer": "ipython3",
   "version": "3.10.12"
  }
 },
 "nbformat": 4,
 "nbformat_minor": 5
}
